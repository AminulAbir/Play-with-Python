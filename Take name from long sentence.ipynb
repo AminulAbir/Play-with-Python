{
 "cells": [
  {
   "cell_type": "code",
   "execution_count": 4,
   "metadata": {},
   "outputs": [
    {
     "name": "stdout",
     "output_type": "stream",
     "text": [
      "What is your name?\n",
      "I am Abir\n",
      "Hello Abir\n"
     ]
    }
   ],
   "source": [
    "import re\n",
    "arr_name = ['my', 'name', 'is*', 'am', 'call(ed|s)*', 'myself', 'people']\n",
    "name = input(\"What is your name?\\n\")\n",
    "name_search = re.split(r'\\s', name)\n",
    "for arr in arr_name:\n",
    "    for i in range(len(name_search)):\n",
    "        if arr != name_search[i]:\n",
    "            name = name_search[i]\n",
    "print(\"Hello \" + name)"
   ]
  },
  {
   "cell_type": "code",
   "execution_count": null,
   "metadata": {},
   "outputs": [],
   "source": []
  }
 ],
 "metadata": {
  "kernelspec": {
   "display_name": "Python 3",
   "language": "python",
   "name": "python3"
  },
  "language_info": {
   "codemirror_mode": {
    "name": "ipython",
    "version": 3
   },
   "file_extension": ".py",
   "mimetype": "text/x-python",
   "name": "python",
   "nbconvert_exporter": "python",
   "pygments_lexer": "ipython3",
   "version": "3.7.3"
  }
 },
 "nbformat": 4,
 "nbformat_minor": 2
}
