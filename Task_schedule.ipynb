{
 "cells": [
  {
   "cell_type": "code",
   "execution_count": 1,
   "metadata": {},
   "outputs": [],
   "source": [
    "import calendar\n",
    "from datetime import date"
   ]
  },
  {
   "cell_type": "code",
   "execution_count": 2,
   "metadata": {},
   "outputs": [],
   "source": [
    "array = [None]*31 # array for 31 days\n",
    "month = 6\n",
    "year = 2020\n",
    "\n",
    "t_date = date.today().strftime(\"%d\") # here I have called the date of today in string formate by using %d\n",
    "# declaring the array from 10 because I started revising from 10. You can change it by yours own plan and date\n",
    "array[10:] = [\"Union-Find\",\"Stack & Queues\", \"Analysis Of Algoritms\", \"Elementary Sort\", \"Mergesort\", \"Quicksort\", \"Priority Queue\", \"Elementary Symbol Tables\", \"Binary Search Trees\", \"Balanced Search Trees\", \"Hashing\", \"Undirected Graphs\", \"Directed Graphs\", \"Minimum Spanning Trees\", \"Shortest Path\"] "
   ]
  },
  {
   "cell_type": "code",
   "execution_count": 3,
   "metadata": {},
   "outputs": [
    {
     "name": "stdout",
     "output_type": "stream",
     "text": [
      "     June 2020\n",
      "Mo Tu We Th Fr Sa Su\n",
      " 1  2  3  4  5  6  7\n",
      " 8  9 10 11 12 13 14\n",
      "15 16 17 18 19 20 21\n",
      "22 23 24 25 26 27 28\n",
      "29 30\n",
      "\n",
      "Today's revision part is \"Stack & Queues\"\n",
      "Tomorrow's revision part is \"Analysis Of Algoritms\"\n",
      "\n",
      "You have finished:\n",
      "\"Union-Find\" on 10/6/2020\n"
     ]
    }
   ],
   "source": [
    "print(calendar.month(year, month)) # priniting out he June month calendar\n",
    "# this loop for printing current and next day revising part\n",
    "for i in range(10, len(array), 1):\n",
    "    if str(i) == t_date:\n",
    "        print(\"Today's revision part is \" + '\"' + array[i] + '\"')\n",
    "        print(\"Tomorrow's revision part is \" + '\"' + array[i+1] + '\"')\n",
    "# this loop is for printing the past revised part which has already finished on previous dates\n",
    "print(\"\\nYou have finished:\")        \n",
    "for i in range(10, len(array), 1):\n",
    "    if str(i) < t_date:\n",
    "        print('\"' + array[i] + '\"' + \" on \"+ f\"{i}/{month}/{year}\")"
   ]
  },
  {
   "cell_type": "code",
   "execution_count": null,
   "metadata": {},
   "outputs": [],
   "source": []
  }
 ],
 "metadata": {
  "kernelspec": {
   "display_name": "Python 3",
   "language": "python",
   "name": "python3"
  },
  "language_info": {
   "codemirror_mode": {
    "name": "ipython",
    "version": 3
   },
   "file_extension": ".py",
   "mimetype": "text/x-python",
   "name": "python",
   "nbconvert_exporter": "python",
   "pygments_lexer": "ipython3",
   "version": "3.7.3"
  }
 },
 "nbformat": 4,
 "nbformat_minor": 2
}
