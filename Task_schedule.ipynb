{
 "cells": [
  {
   "cell_type": "code",
   "execution_count": 1,
   "metadata": {},
   "outputs": [],
   "source": [
    "import calendar\n",
    "from datetime import date"
   ]
  },
  {
   "cell_type": "code",
   "execution_count": 2,
   "metadata": {},
   "outputs": [],
   "source": [
    "array = [None]*31 # array for 31 days\n",
    "month = 6\n",
    "year = 2020\n",
    "num = 1\n",
    "\n",
    "t_date = date.today().strftime(\"%d\") # here I have called the date of today in string formate by using %d\n",
    "# declaring the array from 10 because I started revising from 10. You can change it by yours own plan and date\n",
    "array[10:] = [\"Union-Find\",\"Stack & Queues\", \"Analysis Of Algoritms\", \"Elementary Sort\", \"Mergesort\", \"Quicksort\", \"Priority Queue\", \"Elementary Symbol Tables\", \"Binary Search Trees\", \"Balanced Search Trees\", \"Hashing\", \"Undirected Graphs\", \"Directed Graphs\", \"Minimum Spanning Trees\", \"Shortest Path\"] "
   ]
  },
  {
   "cell_type": "code",
   "execution_count": 3,
   "metadata": {},
   "outputs": [
    {
     "name": "stdout",
     "output_type": "stream",
     "text": [
      "     June 2020\n",
      "Mo Tu We Th Fr Sa Su\n",
      " 1  2  3  4  5  6  7\n",
      " 8  9 10 11 12 13 14\n",
      "15 16 17 18 19 20 21\n",
      "22 23 24 25 26 27 28\n",
      "29 30\n",
      "\n",
      "Today's revision part is \"Stack & Queues\"\n",
      "Tomorrow's revision part is \"Analysis Of Algoritms\"\n",
      "\n",
      "You have finished:\n",
      "\"Union-Find\" on 10/6/2020\n",
      "\n",
      "Topic on this month:\n",
      "1 : \"Union-Find\" on 10/6/2020 (finished)\n",
      "2 : \"Stack & Queues\" on 11/6/2020\n",
      "3 : \"Analysis Of Algoritms\" on 12/6/2020\n",
      "4 : \"Elementary Sort\" on 13/6/2020\n",
      "5 : \"Mergesort\" on 14/6/2020\n",
      "6 : \"Quicksort\" on 15/6/2020\n",
      "7 : \"Priority Queue\" on 16/6/2020\n",
      "8 : \"Elementary Symbol Tables\" on 17/6/2020\n",
      "9 : \"Binary Search Trees\" on 18/6/2020\n",
      "10 : \"Balanced Search Trees\" on 19/6/2020\n",
      "11 : \"Hashing\" on 20/6/2020\n",
      "12 : \"Undirected Graphs\" on 21/6/2020\n",
      "13 : \"Directed Graphs\" on 22/6/2020\n",
      "14 : \"Minimum Spanning Trees\" on 23/6/2020\n",
      "15 : \"Shortest Path\" on 24/6/2020\n"
     ]
    }
   ],
   "source": [
    "print(calendar.month(year, month)) # priniting out he June month calendar\n",
    "# this loop for printing current and next day revising part\n",
    "for i in range(len(array)):\n",
    "    if array[i] is not None:\n",
    "        if str(i) == t_date:\n",
    "            print(\"Today's revision part is \" + '\"' + array[i] + '\"')\n",
    "            print(\"Tomorrow's revision part is \" + '\"' + array[i+1] + '\"')\n",
    "# this loop is for printing the past revised part which has already finished on previous dates\n",
    "print(\"\\nYou have finished:\")        \n",
    "for i in range(len(array)):\n",
    "    if array[i] is not None:\n",
    "        if str(i) < t_date:\n",
    "            print('\"' + array[i] + '\"' + \" on \"+ f\"{i}/{month}/{year}\")\n",
    "\n",
    "# this part is for print whole plan of the month\n",
    "print(\"\\nTopic on this month:\")\n",
    "for i in range(len(array)):\n",
    "    if array[i] is not None:\n",
    "        print(num,\": \" + '\"' + array[i] + '\"' + \" on \"+ f\"{i}/{month}/{year}\", end=\"\")\n",
    "        if str(i) < t_date:\n",
    "            print(\" (finished)\", end=\"\")\n",
    "        print()\n",
    "        num += 1"
   ]
  },
  {
   "cell_type": "code",
   "execution_count": null,
   "metadata": {},
   "outputs": [],
   "source": []
  }
 ],
 "metadata": {
  "kernelspec": {
   "display_name": "Python 3",
   "language": "python",
   "name": "python3"
  },
  "language_info": {
   "codemirror_mode": {
    "name": "ipython",
    "version": 3
   },
   "file_extension": ".py",
   "mimetype": "text/x-python",
   "name": "python",
   "nbconvert_exporter": "python",
   "pygments_lexer": "ipython3",
   "version": "3.7.3"
  }
 },
 "nbformat": 4,
 "nbformat_minor": 2
}
